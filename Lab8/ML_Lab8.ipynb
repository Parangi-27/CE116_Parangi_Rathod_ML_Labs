{
  "nbformat": 4,
  "nbformat_minor": 0,
  "metadata": {
    "colab": {
      "provenance": []
    },
    "kernelspec": {
      "name": "python3",
      "display_name": "Python 3"
    },
    "language_info": {
      "name": "python"
    }
  },
  "cells": [
    {
      "cell_type": "code",
      "execution_count": null,
      "metadata": {
        "id": "QVXUzb8B46JJ",
        "colab": {
          "base_uri": "https://localhost:8080/",
          "height": 380
        },
        "outputId": "cd313b8c-b604-47ae-d748-1f5b74f7cb41"
      },
      "outputs": [
        {
          "output_type": "error",
          "ename": "ValueError",
          "evalue": "ignored",
          "traceback": [
            "\u001b[0;31m---------------------------------------------------------------------------\u001b[0m",
            "\u001b[0;31mValueError\u001b[0m                                Traceback (most recent call last)",
            "\u001b[0;32m<ipython-input-24-ede7d316153c>\u001b[0m in \u001b[0;36m<module>\u001b[0;34m\u001b[0m\n\u001b[1;32m     44\u001b[0m \u001b[0;34m\u001b[0m\u001b[0m\n\u001b[1;32m     45\u001b[0m \u001b[0;31m# computing the stack features\u001b[0m\u001b[0;34m\u001b[0m\u001b[0;34m\u001b[0m\u001b[0;34m\u001b[0m\u001b[0m\n\u001b[0;32m---> 46\u001b[0;31m s_train, s_test = stacking(all_models, X_train, X_test,\n\u001b[0m\u001b[1;32m     47\u001b[0m                            y_train)\n\u001b[1;32m     48\u001b[0m \u001b[0;34m\u001b[0m\u001b[0m\n",
            "\u001b[0;32m/usr/local/lib/python3.8/dist-packages/vecstack/core.py\u001b[0m in \u001b[0;36mstacking\u001b[0;34m(models, X_train, y_train, X_test, sample_weight, regression, transform_target, transform_pred, mode, needs_proba, save_dir, metric, n_folds, stratified, shuffle, random_state, verbose)\u001b[0m\n\u001b[1;32m    409\u001b[0m     \u001b[0;31m# Check arrays\u001b[0m\u001b[0;34m\u001b[0m\u001b[0;34m\u001b[0m\u001b[0;34m\u001b[0m\u001b[0m\n\u001b[1;32m    410\u001b[0m     \u001b[0;31m# y_train and sample_weight must be 1d ndarrays (i.e. row, not column)\u001b[0m\u001b[0;34m\u001b[0m\u001b[0;34m\u001b[0m\u001b[0;34m\u001b[0m\u001b[0m\n\u001b[0;32m--> 411\u001b[0;31m     X_train, y_train = check_X_y(X_train,\n\u001b[0m\u001b[1;32m    412\u001b[0m                                  \u001b[0my_train\u001b[0m\u001b[0;34m,\u001b[0m\u001b[0;34m\u001b[0m\u001b[0;34m\u001b[0m\u001b[0m\n\u001b[1;32m    413\u001b[0m                                  \u001b[0maccept_sparse\u001b[0m\u001b[0;34m=\u001b[0m\u001b[0;34m[\u001b[0m\u001b[0;34m'csr'\u001b[0m\u001b[0;34m]\u001b[0m\u001b[0;34m,\u001b[0m \u001b[0;31m# allow csr and cast all other sparse types to csr\u001b[0m\u001b[0;34m\u001b[0m\u001b[0;34m\u001b[0m\u001b[0m\n",
            "\u001b[0;32m/usr/local/lib/python3.8/dist-packages/sklearn/utils/validation.py\u001b[0m in \u001b[0;36mcheck_X_y\u001b[0;34m(X, y, accept_sparse, accept_large_sparse, dtype, order, copy, force_all_finite, ensure_2d, allow_nd, multi_output, ensure_min_samples, ensure_min_features, y_numeric, estimator)\u001b[0m\n\u001b[1;32m    977\u001b[0m     )\n\u001b[1;32m    978\u001b[0m \u001b[0;34m\u001b[0m\u001b[0m\n\u001b[0;32m--> 979\u001b[0;31m     \u001b[0my\u001b[0m \u001b[0;34m=\u001b[0m \u001b[0m_check_y\u001b[0m\u001b[0;34m(\u001b[0m\u001b[0my\u001b[0m\u001b[0;34m,\u001b[0m \u001b[0mmulti_output\u001b[0m\u001b[0;34m=\u001b[0m\u001b[0mmulti_output\u001b[0m\u001b[0;34m,\u001b[0m \u001b[0my_numeric\u001b[0m\u001b[0;34m=\u001b[0m\u001b[0my_numeric\u001b[0m\u001b[0;34m)\u001b[0m\u001b[0;34m\u001b[0m\u001b[0;34m\u001b[0m\u001b[0m\n\u001b[0m\u001b[1;32m    980\u001b[0m \u001b[0;34m\u001b[0m\u001b[0m\n\u001b[1;32m    981\u001b[0m     \u001b[0mcheck_consistent_length\u001b[0m\u001b[0;34m(\u001b[0m\u001b[0mX\u001b[0m\u001b[0;34m,\u001b[0m \u001b[0my\u001b[0m\u001b[0;34m)\u001b[0m\u001b[0;34m\u001b[0m\u001b[0;34m\u001b[0m\u001b[0m\n",
            "\u001b[0;32m/usr/local/lib/python3.8/dist-packages/sklearn/utils/validation.py\u001b[0m in \u001b[0;36m_check_y\u001b[0;34m(y, multi_output, y_numeric)\u001b[0m\n\u001b[1;32m    991\u001b[0m         )\n\u001b[1;32m    992\u001b[0m     \u001b[0;32melse\u001b[0m\u001b[0;34m:\u001b[0m\u001b[0;34m\u001b[0m\u001b[0;34m\u001b[0m\u001b[0m\n\u001b[0;32m--> 993\u001b[0;31m         \u001b[0my\u001b[0m \u001b[0;34m=\u001b[0m \u001b[0mcolumn_or_1d\u001b[0m\u001b[0;34m(\u001b[0m\u001b[0my\u001b[0m\u001b[0;34m,\u001b[0m \u001b[0mwarn\u001b[0m\u001b[0;34m=\u001b[0m\u001b[0;32mTrue\u001b[0m\u001b[0;34m)\u001b[0m\u001b[0;34m\u001b[0m\u001b[0;34m\u001b[0m\u001b[0m\n\u001b[0m\u001b[1;32m    994\u001b[0m         \u001b[0m_assert_all_finite\u001b[0m\u001b[0;34m(\u001b[0m\u001b[0my\u001b[0m\u001b[0;34m)\u001b[0m\u001b[0;34m\u001b[0m\u001b[0;34m\u001b[0m\u001b[0m\n\u001b[1;32m    995\u001b[0m         \u001b[0m_ensure_no_complex_data\u001b[0m\u001b[0;34m(\u001b[0m\u001b[0my\u001b[0m\u001b[0;34m)\u001b[0m\u001b[0;34m\u001b[0m\u001b[0;34m\u001b[0m\u001b[0m\n",
            "\u001b[0;32m/usr/local/lib/python3.8/dist-packages/sklearn/utils/validation.py\u001b[0m in \u001b[0;36mcolumn_or_1d\u001b[0;34m(y, warn)\u001b[0m\n\u001b[1;32m   1036\u001b[0m         \u001b[0;32mreturn\u001b[0m \u001b[0mnp\u001b[0m\u001b[0;34m.\u001b[0m\u001b[0mravel\u001b[0m\u001b[0;34m(\u001b[0m\u001b[0my\u001b[0m\u001b[0;34m)\u001b[0m\u001b[0;34m\u001b[0m\u001b[0;34m\u001b[0m\u001b[0m\n\u001b[1;32m   1037\u001b[0m \u001b[0;34m\u001b[0m\u001b[0m\n\u001b[0;32m-> 1038\u001b[0;31m     raise ValueError(\n\u001b[0m\u001b[1;32m   1039\u001b[0m         \u001b[0;34m\"y should be a 1d array, got an array of shape {} instead.\"\u001b[0m\u001b[0;34m.\u001b[0m\u001b[0mformat\u001b[0m\u001b[0;34m(\u001b[0m\u001b[0mshape\u001b[0m\u001b[0;34m)\u001b[0m\u001b[0;34m\u001b[0m\u001b[0;34m\u001b[0m\u001b[0m\n\u001b[1;32m   1040\u001b[0m     )\n",
            "\u001b[0;31mValueError\u001b[0m: y should be a 1d array, got an array of shape (114, 30) instead."
          ]
        }
      ],
      "source": [
        "import pandas as pd\n",
        "import numpy as np\n",
        "from sklearn.metrics import accuracy_score\n",
        "from sklearn.datasets import load_breast_cancer\n",
        "from sklearn.model_selection import train_test_split\n",
        "from sklearn.tree import DecisionTreeClassifier\n",
        "from sklearn.linear_model import LinearRegression\n",
        "from sklearn.metrics import mean_squared_error\n",
        "\n",
        "# importing stacking lib\n",
        "from vecstack import stacking\n",
        "\n",
        "# individual learners of the model\n",
        "\n",
        "#data loaded\n",
        "\n",
        "# columns=[ \"mean_radius\" ,\"mean_texture\" , \"mean_perimeter\",\"mean_area\",\"mean_smoothness\",\"diagnosis\"]\n",
        "# df=pd.read_csv(\"/content/drive/MyDrive/MLLabs/Jay/Breast_cancer_data.csv\", encoding=\"latin\")\n",
        "# label=df[\"target\"]\n",
        "# data=df.drop(\"target\")\n",
        "df=load_breast_cancer();\n",
        "data=df.data;#data\n",
        "label=df.target;#label\n",
        "# print(data)\n",
        "# print(label)\n",
        "\n",
        "\n",
        "# Splitting between train data into training and validation dataset\n",
        "X_train, X_test, y_train, y_test = train_test_split(\n",
        "    data, label, test_size=0.20)\n",
        "\n",
        "# initializing all the model objects with default parameters\n",
        "\n",
        "#model1\n",
        "model1 = DecisionTreeClassifier(criterion='entropy')\n",
        "model1.fit(data,label);\n",
        "\n",
        "#model2\n",
        "model2 = LinearRegression()\n",
        "model2.fit(data,label);\n",
        "\n",
        "# putting all base model objects in one list\n",
        "all_models = [model1, model2]\n",
        "\n",
        "# computing the stack features\n",
        "s_train, s_test = stacking(all_models, X_train, X_test,\n",
        "                           y_train)\n",
        "\n",
        "# initializing the second-level model\n",
        "final_model = model1\n",
        " \n",
        "# fitting the second level model with stack features\n",
        "final_model = final_model.fit(s_train, y_train)\n",
        " \n",
        "# predicting the final output using stacking\n",
        "pred_final = final_model.predict(X_test)\n",
        " \n",
        "# printing the mean squared error between real value and predicted value\n",
        "print(mean_squared_error(y_test, pred_final))\n",
        "\n"
      ]
    },
    {
      "cell_type": "code",
      "source": [
        "# import pandas as pd\n",
        "# import numpy as np\n",
        "# from sklearn.metrics import accuracy_score\n",
        "# from sklearn.datasets import load_breast_cancer\n",
        "# from sklearn.model_selection import train_test_split\n",
        "# from sklearn.preprocessing import StandardScaler\n",
        "# from sklearn.tree import DecisionTreeClassifier\n",
        "# from sklearn.naive_bayes import GaussianNB\n",
        "# # individual learners of the model\n",
        "# df=load_breast_cancer()\n",
        "# #df=pd.read_csv('./drive/MyDrive/data.csv')\n",
        "# sc = StandardScaler()\n",
        "# label=df.target\n",
        "# data=sc.fit_transform(df.data)\n",
        "\n",
        "# X_train, X_test, y_train, y_test = train_test_split(data,label,random_state=47)\n",
        "\n",
        "# model1=DecisionTreeClassifier(criterion='entropy')\n",
        "# model1.fit(X_train,y_train)\n",
        "\n",
        "# model2=DecisionTreeClassifier(criterion='gini')\n",
        "# model2.fit(X_train,y_train)\n",
        "\n",
        "# preds1 = model1.predict(X_test)\n",
        "# preds2 = model2.predict(X_test)\n",
        "\n",
        "# test_preds1 = model1.predict(data)\n",
        "# test_preds2 = model2.predict(data)\n",
        "\n",
        "# model3=GaussianNB()\n",
        "# model3.fit(X_train,y_train)\n",
        "# preds3=model3.predict(X_test)\n",
        "# test_preds3=model3.predict(data)\n",
        "\n",
        "# print(preds1)\n",
        "# print(preds2)\n",
        "# print(preds3)\n",
        "\n",
        "\n",
        "\n",
        "# train_stack = np.column_stack((preds1,preds2,preds3))\n",
        "# test_stack = np.column_stack((test_preds1,test_preds2,test_preds3))\n",
        "\n",
        "# #print(train_stack)\n",
        "\n",
        "# final_model=DecisionTreeClassifier(criterion='gini')\n",
        "# final_model.fit(train_stack,y_test)\n",
        "\n",
        "# final_predictions=final_model.predict(test_stack)\n",
        "\n",
        "# print(final_predictions)"
      ],
      "metadata": {
        "id": "BGuHH8vPP4HL"
      },
      "execution_count": null,
      "outputs": []
    },
    {
      "cell_type": "code",
      "source": [],
      "metadata": {
        "id": "PuA4WYWbK35m"
      },
      "execution_count": null,
      "outputs": []
    }
  ]
}