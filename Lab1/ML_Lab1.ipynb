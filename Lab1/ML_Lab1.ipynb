{
  "nbformat": 4,
  "nbformat_minor": 0,
  "metadata": {
    "colab": {
      "provenance": []
    },
    "kernelspec": {
      "name": "python3",
      "display_name": "Python 3"
    },
    "language_info": {
      "name": "python"
    }
  },
  "cells": [
    {
      "cell_type": "code",
      "execution_count": null,
      "metadata": {
        "colab": {
          "base_uri": "https://localhost:8080/"
        },
        "id": "qLY9S2yfiNx4",
        "outputId": "e848aa86-cf6f-45ac-f69c-5a3e43188351"
      },
      "outputs": [
        {
          "output_type": "stream",
          "name": "stdout",
          "text": [
            "5 Type: <class 'int'>\n",
            "Hello Type: <class 'str'>\n"
          ]
        }
      ],
      "source": [
        "x=5\n",
        "print(x,\"Type:\",type(x));\n",
        "x=\"Hello\"\n",
        "print(x,\"Type:\",type(x));"
      ]
    },
    {
      "cell_type": "code",
      "source": [
        "import numpy as np\n",
        "alist=[1,\"Hello\",2];\n",
        "#numpy array define\n",
        "nlist=np.array([1,\"Hello\",2]);\n",
        "print(alist)\n",
        "print(nlist)\n",
        "\n",
        "print(type(alist))\n",
        "print(type(nlist))"
      ],
      "metadata": {
        "colab": {
          "base_uri": "https://localhost:8080/"
        },
        "id": "aTaW5JBljEPC",
        "outputId": "b67871aa-9639-4c91-e1ed-8dd64d0d1527"
      },
      "execution_count": null,
      "outputs": [
        {
          "output_type": "stream",
          "name": "stdout",
          "text": [
            "[1, 'Hello', 2]\n",
            "['1' 'Hello' '2']\n",
            "<class 'list'>\n",
            "<class 'numpy.ndarray'>\n"
          ]
        }
      ]
    },
    {
      "cell_type": "code",
      "source": [
        "import numpy as np\n",
        "alist=[1,\"Hello\",2];\n",
        "nlist=np.array([1,2,3]);\n",
        "print(alist+alist)\n",
        "\n",
        "print(nlist+nlist)"
      ],
      "metadata": {
        "colab": {
          "base_uri": "https://localhost:8080/"
        },
        "id": "AiG7Kg_VkCk7",
        "outputId": "6eec53c7-4edb-40ab-bc10-70f973111182"
      },
      "execution_count": null,
      "outputs": [
        {
          "output_type": "stream",
          "name": "stdout",
          "text": [
            "[1, 'Hello', 2, 1, 'Hello', 2]\n",
            "[2 4 6]\n"
          ]
        }
      ]
    },
    {
      "cell_type": "code",
      "source": [
        "import numpy as np\n",
        "x = np.array([1,2])\n",
        "y = np.array([5,6])\n",
        "print(np.dot(x, y))\n",
        "print(x @ y)"
      ],
      "metadata": {
        "colab": {
          "base_uri": "https://localhost:8080/"
        },
        "id": "WA1RI2ZamRqi",
        "outputId": "58749864-97a7-4751-b4eb-40a1eca61bf4"
      },
      "execution_count": null,
      "outputs": [
        {
          "output_type": "stream",
          "name": "stdout",
          "text": [
            "17\n",
            "17\n"
          ]
        }
      ]
    },
    {
      "cell_type": "code",
      "source": [
        "import numpy as np\n",
        "x = np.array([[1,2],[3,4]])\n",
        "print(x)\n",
        "print(x.T)"
      ],
      "metadata": {
        "colab": {
          "base_uri": "https://localhost:8080/"
        },
        "id": "h4MSTW6Znx27",
        "outputId": "fc79b005-6504-42e8-aa05-51f050274703"
      },
      "execution_count": null,
      "outputs": [
        {
          "output_type": "stream",
          "name": "stdout",
          "text": [
            "[[1 2]\n",
            " [3 4]]\n",
            "[[1 3]\n",
            " [2 4]]\n"
          ]
        }
      ]
    },
    {
      "cell_type": "code",
      "source": [
        "import numpy as np\n",
        "narray = np.array([[1,2],[3,4]])\n",
        "nlist=[1,2,3];\n",
        "npmatrix1 = np.array([narray, narray, narray]) # Matrix initialized with NumPy␣\n",
        "\n",
        "npmatrix2 = np.array([alist, alist, alist]) # Matrix initialized with lists\n",
        "npmatrix3 = np.array([narray, [1, 1, 1, 1], narray]) # Matrix initialized with␣\n",
        "\n",
        "print(npmatrix1)\n",
        "print(npmatrix2)\n",
        "print(npmatrix3)"
      ],
      "metadata": {
        "colab": {
          "base_uri": "https://localhost:8080/"
        },
        "id": "g3QesK0Fo1Bd",
        "outputId": "53b702ae-0066-4004-a570-c34f23566cac"
      },
      "execution_count": null,
      "outputs": [
        {
          "output_type": "stream",
          "name": "stdout",
          "text": [
            "[[[1 2]\n",
            "  [3 4]]\n",
            "\n",
            " [[1 2]\n",
            "  [3 4]]\n",
            "\n",
            " [[1 2]\n",
            "  [3 4]]]\n",
            "[['1' 'Hello' '2']\n",
            " ['1' 'Hello' '2']\n",
            " ['1' 'Hello' '2']]\n",
            "[array([[1, 2],\n",
            "        [3, 4]]) list([1, 1, 1, 1]) array([[1, 2],\n",
            "                                           [3, 4]])]\n"
          ]
        },
        {
          "output_type": "stream",
          "name": "stderr",
          "text": [
            "<ipython-input-28-b4e5a36c2980>:7: VisibleDeprecationWarning: Creating an ndarray from ragged nested sequences (which is a list-or-tuple of lists-or-tuples-or ndarrays with different lengths or shapes) is deprecated. If you meant to do this, you must specify 'dtype=object' when creating the ndarray.\n",
            "  npmatrix3 = np.array([narray, [1, 1, 1, 1], narray]) # Matrix initialized with␣\n"
          ]
        }
      ]
    },
    {
      "cell_type": "code",
      "source": [
        "okmatrix = np.array([[1, 2], [3, 4]])\n",
        "result = okmatrix * 2 + 1\n",
        "# print(result)\n",
        "\n",
        "matrix3x2 = np.array([[1, 2], [3, 4], [5, 6]])\n",
        "print('Original matrix 3 x 2')\n",
        "print(matrix3x2)\n",
        "print('Transposed matrix 2 x 3')\n",
        "print(matrix3x2.T)"
      ],
      "metadata": {
        "colab": {
          "base_uri": "https://localhost:8080/"
        },
        "id": "A59LiYp4p30V",
        "outputId": "498cc72f-24cb-4ec8-8425-8a501c21c28d"
      },
      "execution_count": null,
      "outputs": [
        {
          "output_type": "stream",
          "name": "stdout",
          "text": [
            "Original matrix 3 x 2\n",
            "[[1 2]\n",
            " [3 4]\n",
            " [5 6]]\n",
            "Transposed matrix 2 x 3\n",
            "[[1 3 5]\n",
            " [2 4 6]]\n"
          ]
        }
      ]
    },
    {
      "cell_type": "code",
      "source": [
        "#Excerise:\n",
        "#Q1 Create Two numpy array of size 4 X 5 and 5 X 4.\n",
        "matrix1=np.array([[1,2,3,4,5],[6,7,8,9,10],[11,12,13,14,15],[16,17,18,19,20]]);\n",
        "matrix2=np.array([[1,2,3,4],[6,7,8,9],[11,12,13,14],[16,17,18,19],[5,10,15,20]]);\n",
        "# print(matrix1);\n",
        "# print(matrix2);\n",
        "\n",
        "#Q2 Randomly Initalize that array\n",
        "arr=np.random.rand(5)\n",
        "# print(arr)\n",
        "\n",
        "#Q3 Perform matrix multiplication\n",
        "matrix1=np.array([[1,2,3],[4,5,6],[7,8,9]])\n",
        "matrix2=np.array([[1,2,3],[4,5,6],[7,8,9]])\n",
        "# print(np.dot(matrix1,matrix2));\n",
        "\n",
        "#Q4 Perform elementwise matrix multiplication\n",
        "matrix1=np.array([[1,2,3],[4,5,6],[7,8,9]])\n",
        "matrix2=np.array([[1,2,3],[4,5,6],[7,8,9]])\n",
        "# print(matrix1*matrix2)\n",
        "\n",
        "#Q5 Find mean, median of the first matrix.\n",
        "matrix1=np.array([[1,2,3],[4,5,6],[7,8,9]])\n",
        "# print(np.mean(matrix1))\n",
        "# print(np.median(matrix1))\n",
        "\n",
        "#Q6 Get the transpose of that Matrix that you created. Create a square matrix and find its determinant.\n",
        "matrix1=np.array([[1,2,3],[4,5,6],[7,8,9]])\n",
        "# print(matrix1.T)\n",
        "# print(np.linalg.det(matrix1))\n",
        "\n",
        "#Q7 Obtain each row in the second column of the first array.\n",
        "matrix1=np.array([[1,2,3],[4,5,6],[7,8,9]])\n",
        "\n",
        "# print(np.)\n",
        "\n",
        "#Q8 Convert Numeric entries(columns) of mtcars.csv to Mean Centered Version"
      ],
      "metadata": {
        "colab": {
          "base_uri": "https://localhost:8080/"
        },
        "id": "_f6gOacjs5Vy",
        "outputId": "afd76ac8-eabe-4998-c036-362de7280f93"
      },
      "execution_count": null,
      "outputs": [
        {
          "output_type": "stream",
          "name": "stdout",
          "text": [
            "[0.94889988 0.55097892 0.84011464 0.92896809 0.64944548]\n"
          ]
        }
      ]
    },
    {
      "cell_type": "code",
      "source": [
        "#nltk is libary used for building NLP in python.\n",
        "#NLP Natural lanaguage preprocessing used to build machine that understand text/voice and respond it.Work like humans \n",
        "\n",
        "\n",
        "import nltk # Python library for NLP\n",
        "from nltk.corpus import twitter_samples # sample Twitter dataset from NLTK\n",
        "import matplotlib.pyplot as plt # library for visualization\n",
        "import random\n",
        "\n",
        "# nltk.download(\"twitter_samples\")\n",
        "positive_tweets=twitter_samples.strings('positive_tweets.json')\n",
        "negative_tweets=twitter_samples.strings('negative_tweets.json')\n",
        "print(\"No. of positive tweets:\", len(positive_tweets))\n",
        "print(\"No. of negative tweets:\", len(negative_tweets))\n"
      ],
      "metadata": {
        "id": "_FttBTqL5pqi",
        "colab": {
          "base_uri": "https://localhost:8080/"
        },
        "outputId": "34317ae8-67f7-4ce3-bf79-53fa13919560"
      },
      "execution_count": null,
      "outputs": [
        {
          "output_type": "stream",
          "name": "stdout",
          "text": [
            "No. of positive tweets: 5000\n",
            "No. of negative tweets: 5000\n"
          ]
        }
      ]
    },
    {
      "cell_type": "code",
      "source": [
        "fig=plt.figure(figsize=(5,5))\n",
        "sizes=[35,12,55,11]\n",
        "labels=['ML-HAP','CN-SPM','NIS-MTM','TAFL-MSB']\n",
        "plt.pie(sizes, labels=labels, autopct='%.2f%%',shadow=True, startangle=90)\n",
        "plt.axis('equal')\n",
        "plt.show()"
      ],
      "metadata": {
        "id": "rqlWYha1xaVO",
        "colab": {
          "base_uri": "https://localhost:8080/",
          "height": 304
        },
        "outputId": "09faa5a8-7a55-4fd8-d435-27e22166b78e"
      },
      "execution_count": null,
      "outputs": [
        {
          "output_type": "display_data",
          "data": {
            "text/plain": [
              "<Figure size 360x360 with 1 Axes>"
            ],
            "image/png": "[encoded data removed]"
          },
          "metadata": {}
        }
      ]
    },
    {
      "cell_type": "code",
      "source": [
        "#Pie chart of Twitter_sample\n",
        "fig=plt.figure(figsize=(5,5))\n",
        "labels=['Positive_tweets','Negative_tweets']\n",
        "sizes=[len(positive_tweets),len(negative_tweets)]\n",
        "plt.pie(sizes,labels=labels,autopct=\"%.2f%%\",shadow=True,startangle=90)\n",
        "plt.axis('equal')\n",
        "plt.show()"
      ],
      "metadata": {
        "colab": {
          "base_uri": "https://localhost:8080/",
          "height": 303
        },
        "id": "NOvWaMty4vbg",
        "outputId": "8c448552-56f5-4b35-e20f-4b88b53beede"
      },
      "execution_count": null,
      "outputs": [
        {
          "output_type": "display_data",
          "data": {
            "text/plain": [
              "<Figure size 360x360 with 1 Axes>"
            ],
            "image/png": "[encoded data removed]"
          },
          "metadata": {}
        }
      ]
    },
    {
      "cell_type": "code",
      "source": [
        "\n",
        "\n",
        "\n",
        "import nltk # Python library for NLP\n",
        "from nltk.corpus import twitter_samples # sample Twitter dataset from NLTK\n",
        "import matplotlib.pyplot as plt # library for visualization\n",
        "import random\n",
        "\n",
        "# nltk.download(\"twitter_samples\")\n",
        "positive_tweets=twitter_samples.strings('positive_tweets.json')\n",
        "negative_tweets=twitter_samples.strings('negative_tweets.json')\n",
        "# print(\"No. of positive tweets:\", len(positive_tweets))\n",
        "# print(\"No. of negative tweets:\", len(negative_tweets))\n",
        "\n",
        "\n",
        "#print data in different color\n",
        "print('\\033[92m' + positive_tweets[2])"
      ],
      "metadata": {
        "id": "C-Ys7-9EtGiR",
        "colab": {
          "base_uri": "https://localhost:8080/"
        },
        "outputId": "42983c0f-170a-4f52-fd86-696b02b9b4a1"
      },
      "execution_count": null,
      "outputs": [
        {
          "output_type": "stream",
          "name": "stdout",
          "text": [
            "\u001b[92m@DespiteOfficial we had a listen last night :) As You Bleed is an amazing track. When are you in Scotland?!\n"
          ]
        }
      ]
    },
    {
      "cell_type": "code",
      "source": [
        "#steps used for preprocessing\n",
        "\n",
        "tweet=positive_tweets[2277];\n",
        "# print(tweet)\n",
        "\n",
        "#USING STOPWORDS LIBARAY:Used for remove substrings commonly used on the\n",
        "#platform like the hashtag, retweet marks, and hyperlinks.i.e. machine will understand\n",
        "#Stop words are words that don’t add significant meaning to the text.\n",
        "\n",
        "#download stopword\n",
        "# nltk.download('stopwords')\n",
        "\n",
        "import re # library for regular expression operation\n",
        "import string # for string operations\n",
        "from nltk.corpus import stopwords # module for stop words that come with NLTK\n",
        "from nltk.stem import PorterStemmer # module for stemming\n",
        "from nltk.tokenize import TweetTokenizer # module for tokenizing strings\n",
        "from nltk.stem import WordNetLemmatizer\n",
        "#green text\n",
        "print('\\033[92m'+tweet)\n",
        "\n",
        "\n",
        "#remove hyperlink using regular expression operation\n",
        "tweet2=re.sub(r'https?:\\/\\/.*[\\r\\n]*', '', tweet)\n",
        "print(tweet2)\n",
        "\n",
        "#remove hash\n",
        "tweet2=re.sub(r'#','',tweet2)\n",
        "print(tweet2)#hash remove where '' is replace with # in tweet2\n"
      ],
      "metadata": {
        "id": "veLOtC0ktJ2Z",
        "colab": {
          "base_uri": "https://localhost:8080/"
        },
        "outputId": "2e49d81f-9063-4e2f-b063-dab67db7d6eb"
      },
      "execution_count": null,
      "outputs": [
        {
          "output_type": "stream",
          "name": "stdout",
          "text": [
            "\u001b[92mMy beautiful sunflowers on a sunny Friday morning off :) #sunflowers #favourites #happy #Friday off… https://t.co/3tfYom0N1i\n",
            "My beautiful sunflowers on a sunny Friday morning off :) #sunflowers #favourites #happy #Friday off… \n",
            "My beautiful sunflowers on a sunny Friday morning off :) sunflowers favourites happy Friday off… \n"
          ]
        }
      ]
    },
    {
      "cell_type": "code",
      "source": [
        "#tokenize the string: To tokenize means to split the strings into individual words without blanks or tabs.\n",
        "\n",
        "print('\\033[93m'+tweet2)\n",
        "#Initailize the tokenizer class\n",
        "tokenizer=TweetTokenizer(preserve_case=False)\n",
        "\n",
        "print(\"After Tokenization:\")\n",
        "tweet_tokens=tokenizer.tokenize(tweet2)\n",
        "print(tweet_tokens)"
      ],
      "metadata": {
        "colab": {
          "base_uri": "https://localhost:8080/"
        },
        "id": "_xTuNJJ-zSk0",
        "outputId": "66f8ae70-3be9-4bcd-ca52-5bc8be0db283"
      },
      "execution_count": null,
      "outputs": [
        {
          "output_type": "stream",
          "name": "stdout",
          "text": [
            "\u001b[93mMy beautiful sunflowers on a sunny Friday morning off :) sunflowers favourites happy Friday off… \n",
            "After Tokenization:\n",
            "['my', 'beautiful', 'sunflowers', 'on', 'a', 'sunny', 'friday', 'morning', 'off', ':)', 'sunflowers', 'favourites', 'happy', 'friday', 'off', '…']\n"
          ]
        }
      ]
    },
    {
      "cell_type": "code",
      "source": [
        "#reserve stopwords english used i.e. don't have relevant meaning\n",
        "stopwords_english = stopwords.words('english')\n",
        "\n",
        "print('\\033[93m')\n",
        "print(tweet_tokens)\n",
        "print('\\033[92m')#text green after this \n",
        "\n",
        "tweets_clean=[]\n",
        "\n",
        "for word in tweet_tokens: # Go through every word in your tokens list\n",
        "  if (word not in stopwords_english and # remove stopwords\n",
        "     word not in string.punctuation): # remove punctuation\n",
        "      tweets_clean.append(word)\n",
        "print('removed stop words and punctuation:')\n",
        "print(tweets_clean)\n"
      ],
      "metadata": {
        "colab": {
          "base_uri": "https://localhost:8080/"
        },
        "id": "BXz7w3jh1fH4",
        "outputId": "94c3238a-150b-445f-f2b6-94097ddbe62e"
      },
      "execution_count": null,
      "outputs": [
        {
          "output_type": "stream",
          "name": "stdout",
          "text": [
            "\u001b[93m\n",
            "['my', 'beautiful', 'sunflowers', 'on', 'a', 'sunny', 'friday', 'morning', 'off', ':)', 'sunflowers', 'favourites', 'happy', 'friday', 'off', '…']\n",
            "\u001b[92m\n",
            "removed stop words and punctuation:\n",
            "['beautiful', 'sunflowers', 'sunny', 'friday', 'morning', ':)', 'sunflowers', 'favourites', 'happy', 'friday', '…']\n"
          ]
        }
      ]
    },
    {
      "cell_type": "code",
      "source": [
        "#Stemming:Stemming is the process of converting a word to its most general form, or stem. i.e. root word\n",
        "\n",
        "#download stemming class\n",
        "import nltk\n",
        "from nltk.stem import WordNetLemmatizer\n",
        "# nltk.download('wordnet')\n",
        "# nltk.download('omw-1.4')\n",
        "\n",
        "print()\n",
        "print('\\033[92m')\n",
        "print(tweets_clean)\n",
        "print('\\033[94m')\n",
        "\n",
        "# Instantiate stemming class\n",
        "# stemmer = PorterStemmer() : used fo\n",
        "\n",
        "# Instantiate stemming class\n",
        "wordnet_lemmatizer = WordNetLemmatizer()\n",
        "# Create an empty list to store the stems\n",
        "tweets_lem = []\n",
        "for word in tweets_clean:\n",
        "    lem_words = wordnet_lemmatizer.lemmatize(word)# stemming word\n",
        "    tweets_lem.append(lem_words) # append to the list\n",
        "print('lemmatized words:')\n",
        "print(tweets_lem)"
      ],
      "metadata": {
        "colab": {
          "base_uri": "https://localhost:8080/"
        },
        "id": "yHDAw9gw3ega",
        "outputId": "fb683d54-74cb-457b-9d53-55ee57b0c2ac"
      },
      "execution_count": null,
      "outputs": [
        {
          "output_type": "stream",
          "name": "stderr",
          "text": [
            "[nltk_data] Downloading package omw-1.4 to /root/nltk_data...\n"
          ]
        },
        {
          "output_type": "stream",
          "name": "stdout",
          "text": [
            "\n",
            "\u001b[92m\n",
            "['beautiful', 'sunflowers', 'sunny', 'friday', 'morning', ':)', 'sunflowers', 'favourites', 'happy', 'friday', '…']\n",
            "\u001b[94m\n",
            "lemmatized words:\n",
            "['beautiful', 'sunflower', 'sunny', 'friday', 'morning', ':)', 'sunflower', 'favourite', 'happy', 'friday', '…']\n"
          ]
        }
      ]
    },
    {
      "cell_type": "code",
      "source": [
        "## PANDAS Library:used for data analyze\n",
        "import numpy as np\n",
        "import pandas as pd\n",
        "import matplotlib.pyplot as plt\n",
        "\n",
        "#mount drive\n",
        "from google.colab import drive\n",
        "drive.mount('/content/drive')\n",
        "\n",
        "# Mounted at /content/drive\n",
        "data=pd.read_csv('/content/mtcars.csv')\n",
        "d=pd.crosstab(index=data['cyl'],columns=\"count\",dropna=True)\n",
        "print(d)"
      ],
      "metadata": {
        "colab": {
          "base_uri": "https://localhost:8080/",
          "height": 397
        },
        "id": "9RdIpWHo9faf",
        "outputId": "12ad198e-1c5e-491d-87c4-9559990caf52"
      },
      "execution_count": null,
      "outputs": [
        {
          "output_type": "stream",
          "name": "stdout",
          "text": [
            "Mounted at /content/drive\n"
          ]
        },
        {
          "output_type": "error",
          "ename": "FileNotFoundError",
          "evalue": "ignored",
          "traceback": [
            "\u001b[0;31m---------------------------------------------------------------------------\u001b[0m",
            "\u001b[0;31mFileNotFoundError\u001b[0m                         Traceback (most recent call last)",
            "\u001b[0;32m<ipython-input-41-7d223c119ce8>\u001b[0m in \u001b[0;36m<module>\u001b[0;34m\u001b[0m\n\u001b[1;32m      9\u001b[0m \u001b[0;34m\u001b[0m\u001b[0m\n\u001b[1;32m     10\u001b[0m \u001b[0;31m# Mounted at /content/drive\u001b[0m\u001b[0;34m\u001b[0m\u001b[0;34m\u001b[0m\u001b[0;34m\u001b[0m\u001b[0m\n\u001b[0;32m---> 11\u001b[0;31m \u001b[0mdata\u001b[0m\u001b[0;34m=\u001b[0m\u001b[0mpd\u001b[0m\u001b[0;34m.\u001b[0m\u001b[0mread_csv\u001b[0m\u001b[0;34m(\u001b[0m\u001b[0;34m'/content/mtcars.csv'\u001b[0m\u001b[0;34m)\u001b[0m\u001b[0;34m\u001b[0m\u001b[0;34m\u001b[0m\u001b[0m\n\u001b[0m\u001b[1;32m     12\u001b[0m \u001b[0md\u001b[0m\u001b[0;34m=\u001b[0m\u001b[0mpd\u001b[0m\u001b[0;34m.\u001b[0m\u001b[0mcrosstab\u001b[0m\u001b[0;34m(\u001b[0m\u001b[0mindex\u001b[0m\u001b[0;34m=\u001b[0m\u001b[0mdata\u001b[0m\u001b[0;34m[\u001b[0m\u001b[0;34m'cyl'\u001b[0m\u001b[0;34m]\u001b[0m\u001b[0;34m,\u001b[0m\u001b[0mcolumns\u001b[0m\u001b[0;34m=\u001b[0m\u001b[0;34m\"count\"\u001b[0m\u001b[0;34m,\u001b[0m\u001b[0mdropna\u001b[0m\u001b[0;34m=\u001b[0m\u001b[0;32mTrue\u001b[0m\u001b[0;34m)\u001b[0m\u001b[0;34m\u001b[0m\u001b[0;34m\u001b[0m\u001b[0m\n\u001b[1;32m     13\u001b[0m \u001b[0mprint\u001b[0m\u001b[0;34m(\u001b[0m\u001b[0md\u001b[0m\u001b[0;34m)\u001b[0m\u001b[0;34m\u001b[0m\u001b[0;34m\u001b[0m\u001b[0m\n",
            "\u001b[0;32m/usr/local/lib/python3.8/dist-packages/pandas/util/_decorators.py\u001b[0m in \u001b[0;36mwrapper\u001b[0;34m(*args, **kwargs)\u001b[0m\n\u001b[1;32m    309\u001b[0m                     \u001b[0mstacklevel\u001b[0m\u001b[0;34m=\u001b[0m\u001b[0mstacklevel\u001b[0m\u001b[0;34m,\u001b[0m\u001b[0;34m\u001b[0m\u001b[0;34m\u001b[0m\u001b[0m\n\u001b[1;32m    310\u001b[0m                 )\n\u001b[0;32m--> 311\u001b[0;31m             \u001b[0;32mreturn\u001b[0m \u001b[0mfunc\u001b[0m\u001b[0;34m(\u001b[0m\u001b[0;34m*\u001b[0m\u001b[0margs\u001b[0m\u001b[0;34m,\u001b[0m \u001b[0;34m**\u001b[0m\u001b[0mkwargs\u001b[0m\u001b[0;34m)\u001b[0m\u001b[0;34m\u001b[0m\u001b[0;34m\u001b[0m\u001b[0m\n\u001b[0m\u001b[1;32m    312\u001b[0m \u001b[0;34m\u001b[0m\u001b[0m\n\u001b[1;32m    313\u001b[0m         \u001b[0;32mreturn\u001b[0m \u001b[0mwrapper\u001b[0m\u001b[0;34m\u001b[0m\u001b[0;34m\u001b[0m\u001b[0m\n",
            "\u001b[0;32m/usr/local/lib/python3.8/dist-packages/pandas/io/parsers/readers.py\u001b[0m in \u001b[0;36mread_csv\u001b[0;34m(filepath_or_buffer, sep, delimiter, header, names, index_col, usecols, squeeze, prefix, mangle_dupe_cols, dtype, engine, converters, true_values, false_values, skipinitialspace, skiprows, skipfooter, nrows, na_values, keep_default_na, na_filter, verbose, skip_blank_lines, parse_dates, infer_datetime_format, keep_date_col, date_parser, dayfirst, cache_dates, iterator, chunksize, compression, thousands, decimal, lineterminator, quotechar, quoting, doublequote, escapechar, comment, encoding, encoding_errors, dialect, error_bad_lines, warn_bad_lines, on_bad_lines, delim_whitespace, low_memory, memory_map, float_precision, storage_options)\u001b[0m\n\u001b[1;32m    584\u001b[0m     \u001b[0mkwds\u001b[0m\u001b[0;34m.\u001b[0m\u001b[0mupdate\u001b[0m\u001b[0;34m(\u001b[0m\u001b[0mkwds_defaults\u001b[0m\u001b[0;34m)\u001b[0m\u001b[0;34m\u001b[0m\u001b[0;34m\u001b[0m\u001b[0m\n\u001b[1;32m    585\u001b[0m \u001b[0;34m\u001b[0m\u001b[0m\n\u001b[0;32m--> 586\u001b[0;31m     \u001b[0;32mreturn\u001b[0m \u001b[0m_read\u001b[0m\u001b[0;34m(\u001b[0m\u001b[0mfilepath_or_buffer\u001b[0m\u001b[0;34m,\u001b[0m \u001b[0mkwds\u001b[0m\u001b[0;34m)\u001b[0m\u001b[0;34m\u001b[0m\u001b[0;34m\u001b[0m\u001b[0m\n\u001b[0m\u001b[1;32m    587\u001b[0m \u001b[0;34m\u001b[0m\u001b[0m\n\u001b[1;32m    588\u001b[0m \u001b[0;34m\u001b[0m\u001b[0m\n",
            "\u001b[0;32m/usr/local/lib/python3.8/dist-packages/pandas/io/parsers/readers.py\u001b[0m in \u001b[0;36m_read\u001b[0;34m(filepath_or_buffer, kwds)\u001b[0m\n\u001b[1;32m    480\u001b[0m \u001b[0;34m\u001b[0m\u001b[0m\n\u001b[1;32m    481\u001b[0m     \u001b[0;31m# Create the parser.\u001b[0m\u001b[0;34m\u001b[0m\u001b[0;34m\u001b[0m\u001b[0;34m\u001b[0m\u001b[0m\n\u001b[0;32m--> 482\u001b[0;31m     \u001b[0mparser\u001b[0m \u001b[0;34m=\u001b[0m \u001b[0mTextFileReader\u001b[0m\u001b[0;34m(\u001b[0m\u001b[0mfilepath_or_buffer\u001b[0m\u001b[0;34m,\u001b[0m \u001b[0;34m**\u001b[0m\u001b[0mkwds\u001b[0m\u001b[0;34m)\u001b[0m\u001b[0;34m\u001b[0m\u001b[0;34m\u001b[0m\u001b[0m\n\u001b[0m\u001b[1;32m    483\u001b[0m \u001b[0;34m\u001b[0m\u001b[0m\n\u001b[1;32m    484\u001b[0m     \u001b[0;32mif\u001b[0m \u001b[0mchunksize\u001b[0m \u001b[0;32mor\u001b[0m \u001b[0miterator\u001b[0m\u001b[0;34m:\u001b[0m\u001b[0;34m\u001b[0m\u001b[0;34m\u001b[0m\u001b[0m\n",
            "\u001b[0;32m/usr/local/lib/python3.8/dist-packages/pandas/io/parsers/readers.py\u001b[0m in \u001b[0;36m__init__\u001b[0;34m(self, f, engine, **kwds)\u001b[0m\n\u001b[1;32m    809\u001b[0m             \u001b[0mself\u001b[0m\u001b[0;34m.\u001b[0m\u001b[0moptions\u001b[0m\u001b[0;34m[\u001b[0m\u001b[0;34m\"has_index_names\"\u001b[0m\u001b[0;34m]\u001b[0m \u001b[0;34m=\u001b[0m \u001b[0mkwds\u001b[0m\u001b[0;34m[\u001b[0m\u001b[0;34m\"has_index_names\"\u001b[0m\u001b[0;34m]\u001b[0m\u001b[0;34m\u001b[0m\u001b[0;34m\u001b[0m\u001b[0m\n\u001b[1;32m    810\u001b[0m \u001b[0;34m\u001b[0m\u001b[0m\n\u001b[0;32m--> 811\u001b[0;31m         \u001b[0mself\u001b[0m\u001b[0;34m.\u001b[0m\u001b[0m_engine\u001b[0m \u001b[0;34m=\u001b[0m \u001b[0mself\u001b[0m\u001b[0;34m.\u001b[0m\u001b[0m_make_engine\u001b[0m\u001b[0;34m(\u001b[0m\u001b[0mself\u001b[0m\u001b[0;34m.\u001b[0m\u001b[0mengine\u001b[0m\u001b[0;34m)\u001b[0m\u001b[0;34m\u001b[0m\u001b[0;34m\u001b[0m\u001b[0m\n\u001b[0m\u001b[1;32m    812\u001b[0m \u001b[0;34m\u001b[0m\u001b[0m\n\u001b[1;32m    813\u001b[0m     \u001b[0;32mdef\u001b[0m \u001b[0mclose\u001b[0m\u001b[0;34m(\u001b[0m\u001b[0mself\u001b[0m\u001b[0;34m)\u001b[0m\u001b[0;34m:\u001b[0m\u001b[0;34m\u001b[0m\u001b[0;34m\u001b[0m\u001b[0m\n",
            "\u001b[0;32m/usr/local/lib/python3.8/dist-packages/pandas/io/parsers/readers.py\u001b[0m in \u001b[0;36m_make_engine\u001b[0;34m(self, engine)\u001b[0m\n\u001b[1;32m   1038\u001b[0m             )\n\u001b[1;32m   1039\u001b[0m         \u001b[0;31m# error: Too many arguments for \"ParserBase\"\u001b[0m\u001b[0;34m\u001b[0m\u001b[0;34m\u001b[0m\u001b[0;34m\u001b[0m\u001b[0m\n\u001b[0;32m-> 1040\u001b[0;31m         \u001b[0;32mreturn\u001b[0m \u001b[0mmapping\u001b[0m\u001b[0;34m[\u001b[0m\u001b[0mengine\u001b[0m\u001b[0;34m]\u001b[0m\u001b[0;34m(\u001b[0m\u001b[0mself\u001b[0m\u001b[0;34m.\u001b[0m\u001b[0mf\u001b[0m\u001b[0;34m,\u001b[0m \u001b[0;34m**\u001b[0m\u001b[0mself\u001b[0m\u001b[0;34m.\u001b[0m\u001b[0moptions\u001b[0m\u001b[0;34m)\u001b[0m  \u001b[0;31m# type: ignore[call-arg]\u001b[0m\u001b[0;34m\u001b[0m\u001b[0;34m\u001b[0m\u001b[0m\n\u001b[0m\u001b[1;32m   1041\u001b[0m \u001b[0;34m\u001b[0m\u001b[0m\n\u001b[1;32m   1042\u001b[0m     \u001b[0;32mdef\u001b[0m \u001b[0m_failover_to_python\u001b[0m\u001b[0;34m(\u001b[0m\u001b[0mself\u001b[0m\u001b[0;34m)\u001b[0m\u001b[0;34m:\u001b[0m\u001b[0;34m\u001b[0m\u001b[0;34m\u001b[0m\u001b[0m\n",
            "\u001b[0;32m/usr/local/lib/python3.8/dist-packages/pandas/io/parsers/c_parser_wrapper.py\u001b[0m in \u001b[0;36m__init__\u001b[0;34m(self, src, **kwds)\u001b[0m\n\u001b[1;32m     49\u001b[0m \u001b[0;34m\u001b[0m\u001b[0m\n\u001b[1;32m     50\u001b[0m         \u001b[0;31m# open handles\u001b[0m\u001b[0;34m\u001b[0m\u001b[0;34m\u001b[0m\u001b[0;34m\u001b[0m\u001b[0m\n\u001b[0;32m---> 51\u001b[0;31m         \u001b[0mself\u001b[0m\u001b[0;34m.\u001b[0m\u001b[0m_open_handles\u001b[0m\u001b[0;34m(\u001b[0m\u001b[0msrc\u001b[0m\u001b[0;34m,\u001b[0m \u001b[0mkwds\u001b[0m\u001b[0;34m)\u001b[0m\u001b[0;34m\u001b[0m\u001b[0;34m\u001b[0m\u001b[0m\n\u001b[0m\u001b[1;32m     52\u001b[0m         \u001b[0;32massert\u001b[0m \u001b[0mself\u001b[0m\u001b[0;34m.\u001b[0m\u001b[0mhandles\u001b[0m \u001b[0;32mis\u001b[0m \u001b[0;32mnot\u001b[0m \u001b[0;32mNone\u001b[0m\u001b[0;34m\u001b[0m\u001b[0;34m\u001b[0m\u001b[0m\n\u001b[1;32m     53\u001b[0m \u001b[0;34m\u001b[0m\u001b[0m\n",
            "\u001b[0;32m/usr/local/lib/python3.8/dist-packages/pandas/io/parsers/base_parser.py\u001b[0m in \u001b[0;36m_open_handles\u001b[0;34m(self, src, kwds)\u001b[0m\n\u001b[1;32m    220\u001b[0m         \u001b[0mLet\u001b[0m \u001b[0mthe\u001b[0m \u001b[0mreaders\u001b[0m \u001b[0mopen\u001b[0m \u001b[0mIOHandles\u001b[0m \u001b[0mafter\u001b[0m \u001b[0mthey\u001b[0m \u001b[0mare\u001b[0m \u001b[0mdone\u001b[0m \u001b[0;32mwith\u001b[0m \u001b[0mtheir\u001b[0m \u001b[0mpotential\u001b[0m \u001b[0mraises\u001b[0m\u001b[0;34m.\u001b[0m\u001b[0;34m\u001b[0m\u001b[0;34m\u001b[0m\u001b[0m\n\u001b[1;32m    221\u001b[0m         \"\"\"\n\u001b[0;32m--> 222\u001b[0;31m         self.handles = get_handle(\n\u001b[0m\u001b[1;32m    223\u001b[0m             \u001b[0msrc\u001b[0m\u001b[0;34m,\u001b[0m\u001b[0;34m\u001b[0m\u001b[0;34m\u001b[0m\u001b[0m\n\u001b[1;32m    224\u001b[0m             \u001b[0;34m\"r\"\u001b[0m\u001b[0;34m,\u001b[0m\u001b[0;34m\u001b[0m\u001b[0;34m\u001b[0m\u001b[0m\n",
            "\u001b[0;32m/usr/local/lib/python3.8/dist-packages/pandas/io/common.py\u001b[0m in \u001b[0;36mget_handle\u001b[0;34m(path_or_buf, mode, encoding, compression, memory_map, is_text, errors, storage_options)\u001b[0m\n\u001b[1;32m    700\u001b[0m         \u001b[0;32mif\u001b[0m \u001b[0mioargs\u001b[0m\u001b[0;34m.\u001b[0m\u001b[0mencoding\u001b[0m \u001b[0;32mand\u001b[0m \u001b[0;34m\"b\"\u001b[0m \u001b[0;32mnot\u001b[0m \u001b[0;32min\u001b[0m \u001b[0mioargs\u001b[0m\u001b[0;34m.\u001b[0m\u001b[0mmode\u001b[0m\u001b[0;34m:\u001b[0m\u001b[0;34m\u001b[0m\u001b[0;34m\u001b[0m\u001b[0m\n\u001b[1;32m    701\u001b[0m             \u001b[0;31m# Encoding\u001b[0m\u001b[0;34m\u001b[0m\u001b[0;34m\u001b[0m\u001b[0;34m\u001b[0m\u001b[0m\n\u001b[0;32m--> 702\u001b[0;31m             handle = open(\n\u001b[0m\u001b[1;32m    703\u001b[0m                 \u001b[0mhandle\u001b[0m\u001b[0;34m,\u001b[0m\u001b[0;34m\u001b[0m\u001b[0;34m\u001b[0m\u001b[0m\n\u001b[1;32m    704\u001b[0m                 \u001b[0mioargs\u001b[0m\u001b[0;34m.\u001b[0m\u001b[0mmode\u001b[0m\u001b[0;34m,\u001b[0m\u001b[0;34m\u001b[0m\u001b[0;34m\u001b[0m\u001b[0m\n",
            "\u001b[0;31mFileNotFoundError\u001b[0m: [Errno 2] No such file or directory: '/content/mtcars.csv'"
          ]
        }
      ]
    }
  ]
}